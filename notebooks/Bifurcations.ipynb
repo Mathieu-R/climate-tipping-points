{
 "cells": [
  {
   "cell_type": "code",
   "execution_count": 1,
   "id": "comprehensive-captain",
   "metadata": {},
   "outputs": [],
   "source": [
    "import numpy as np\n",
    "import matplotlib.pyplot as plt\n",
    "\n",
    "from scipy.optimize import fsolve"
   ]
  },
  {
   "cell_type": "markdown",
   "id": "civilian-weekly",
   "metadata": {},
   "source": [
    "Let's declare a bunch of constants"
   ]
  },
  {
   "cell_type": "code",
   "execution_count": 2,
   "id": "seven-titanium",
   "metadata": {},
   "outputs": [],
   "source": [
    "# 1D EDO for Fold bifurcation paramaters\n",
    "a1 = -1\n",
    "a2 = 1\n",
    "\n",
    "# 2D EDO for Hopf bifurcation parameters\n",
    "b1 = b2 = 1\n",
    "c1 = -1\n",
    "c2 = 1\n",
    "\n",
    "# initial conditions\n",
    "x0 = 0.0\n",
    "y0 = 5.0\n",
    "z0 = 5.0\n",
    "\n",
    "r0 = 5.0\n",
    "\n",
    "# time range\n",
    "t_init = 0\n",
    "t_fin = 200\n",
    "time_step = 0.01"
   ]
  },
  {
   "cell_type": "markdown",
   "id": "roman-performance",
   "metadata": {},
   "source": [
    "Let's write our EDOs"
   ]
  },
  {
   "cell_type": "code",
   "execution_count": 12,
   "id": "apart-morning",
   "metadata": {},
   "outputs": [],
   "source": [
    "def fold(v, phi):\n",
    "  return np.array([\n",
    "    a1 * (v[0] ** 3) + a2 * v[0] + phi\n",
    "  ])\n",
    "\n",
    "def hopf(v, phi):\n",
    "  return np.array([\n",
    "    phi * v[0] - (v[0] ** 3),\n",
    "  ])\n",
    "\n",
    "# v is a vector \\vec{v}: [x, y, z]\n",
    "def fold_hopf(self, v, gamma, phi):\n",
    "  return np.array([\n",
    "    a1 * (v[0] ** 3) + a2 * v[0] + phi,\n",
    "    b1*v[2] + b2*(gamma(v[0]) - (v[1]**2 + v[2]**2))*v[1],\n",
    "    c1*v[1] + c2*(gamma(v[0]) - (v[1]**2 + v[2]**2))*v[2]\n",
    "  ])"
   ]
  },
  {
   "cell_type": "markdown",
   "id": "caring-relations",
   "metadata": {},
   "source": [
    "We use RK4 method to solve our non-linear systems of EDOs"
   ]
  },
  {
   "cell_type": "code",
   "execution_count": 13,
   "id": "weighted-synthetic",
   "metadata": {},
   "outputs": [],
   "source": [
    "def rk4_derivatives(edo, time_step, v, *args):\n",
    "  k1 = edo(v, *args)\n",
    "  k2 = edo(v + ((time_step / 2) * k1), *args)\n",
    "  k3 = edo(v + ((time_step / 2) * k2), *args)\n",
    "  k4 = edo(v + (time_step * k3), *args)\n",
    "  return (k1 + 2*k2 + 2*k3 + k4)\n",
    "\n",
    "def rk4(edo, time_step, v, *args):\n",
    "  return (time_step / 6) * rk4_derivatives(edo, time_step, v, *args)"
   ]
  },
  {
   "cell_type": "markdown",
   "id": "proper-round",
   "metadata": {},
   "source": [
    "Time serie"
   ]
  },
  {
   "cell_type": "code",
   "execution_count": 17,
   "id": "beneficial-attraction",
   "metadata": {},
   "outputs": [
    {
     "ename": "TypeError",
     "evalue": "fold_hopf() missing 1 required positional argument: 'phi'",
     "output_type": "error",
     "traceback": [
      "\u001b[0;31m---------------------------------------------------------------------------\u001b[0m",
      "\u001b[0;31mTypeError\u001b[0m                                 Traceback (most recent call last)",
      "\u001b[0;32m<ipython-input-17-96e021b23d20>\u001b[0m in \u001b[0;36m<module>\u001b[0;34m\u001b[0m\n\u001b[1;32m     65\u001b[0m \u001b[0;34m\u001b[0m\u001b[0m\n\u001b[1;32m     66\u001b[0m \u001b[0mtime_serie\u001b[0m \u001b[0;34m=\u001b[0m \u001b[0mtime_series\u001b[0m\u001b[0;34m(\u001b[0m\u001b[0;34m)\u001b[0m\u001b[0;34m\u001b[0m\u001b[0;34m\u001b[0m\u001b[0m\n\u001b[0;32m---> 67\u001b[0;31m \u001b[0mtime_serie\u001b[0m\u001b[0;34m.\u001b[0m\u001b[0mrk4\u001b[0m\u001b[0;34m(\u001b[0m\u001b[0;34m)\u001b[0m\u001b[0;34m\u001b[0m\u001b[0;34m\u001b[0m\u001b[0m\n\u001b[0m",
      "\u001b[0;32m<ipython-input-17-96e021b23d20>\u001b[0m in \u001b[0;36mrk4\u001b[0;34m(self)\u001b[0m\n\u001b[1;32m     36\u001b[0m       \u001b[0mself\u001b[0m\u001b[0;34m.\u001b[0m\u001b[0mphi\u001b[0m \u001b[0;34m+=\u001b[0m \u001b[0;36m0.01\u001b[0m\u001b[0;34m\u001b[0m\u001b[0;34m\u001b[0m\u001b[0m\n\u001b[1;32m     37\u001b[0m \u001b[0;34m\u001b[0m\u001b[0m\n\u001b[0;32m---> 38\u001b[0;31m       \u001b[0mv\u001b[0m \u001b[0;34m+=\u001b[0m \u001b[0;34m(\u001b[0m\u001b[0mself\u001b[0m\u001b[0;34m.\u001b[0m\u001b[0mtime_step\u001b[0m \u001b[0;34m/\u001b[0m \u001b[0;36m6\u001b[0m\u001b[0;34m)\u001b[0m \u001b[0;34m*\u001b[0m \u001b[0mself\u001b[0m\u001b[0;34m.\u001b[0m\u001b[0mderivatives\u001b[0m\u001b[0;34m(\u001b[0m\u001b[0mt\u001b[0m\u001b[0;34m,\u001b[0m \u001b[0mv\u001b[0m\u001b[0;34m)\u001b[0m\u001b[0;34m\u001b[0m\u001b[0;34m\u001b[0m\u001b[0m\n\u001b[0m\u001b[1;32m     39\u001b[0m       \u001b[0mself\u001b[0m\u001b[0;34m.\u001b[0m\u001b[0mdataset\u001b[0m \u001b[0;34m=\u001b[0m \u001b[0mnp\u001b[0m\u001b[0;34m.\u001b[0m\u001b[0mappend\u001b[0m\u001b[0;34m(\u001b[0m\u001b[0mself\u001b[0m\u001b[0;34m.\u001b[0m\u001b[0mdataset\u001b[0m\u001b[0;34m,\u001b[0m \u001b[0;34m[\u001b[0m\u001b[0mv\u001b[0m\u001b[0;34m.\u001b[0m\u001b[0mcopy\u001b[0m\u001b[0;34m(\u001b[0m\u001b[0;34m)\u001b[0m\u001b[0;34m]\u001b[0m\u001b[0;34m,\u001b[0m \u001b[0maxis\u001b[0m\u001b[0;34m=\u001b[0m\u001b[0;36m0\u001b[0m\u001b[0;34m)\u001b[0m\u001b[0;34m\u001b[0m\u001b[0;34m\u001b[0m\u001b[0m\n\u001b[1;32m     40\u001b[0m \u001b[0;34m\u001b[0m\u001b[0m\n",
      "\u001b[0;32m<ipython-input-17-96e021b23d20>\u001b[0m in \u001b[0;36mderivatives\u001b[0;34m(self, tn, v)\u001b[0m\n\u001b[1;32m     20\u001b[0m \u001b[0;34m\u001b[0m\u001b[0m\n\u001b[1;32m     21\u001b[0m   \u001b[0;32mdef\u001b[0m \u001b[0mderivatives\u001b[0m\u001b[0;34m(\u001b[0m\u001b[0mself\u001b[0m\u001b[0;34m,\u001b[0m \u001b[0mtn\u001b[0m\u001b[0;34m,\u001b[0m \u001b[0mv\u001b[0m\u001b[0;34m)\u001b[0m\u001b[0;34m:\u001b[0m\u001b[0;34m\u001b[0m\u001b[0;34m\u001b[0m\u001b[0m\n\u001b[0;32m---> 22\u001b[0;31m     \u001b[0mk1\u001b[0m \u001b[0;34m=\u001b[0m \u001b[0mfold_hopf\u001b[0m\u001b[0;34m(\u001b[0m\u001b[0mself\u001b[0m\u001b[0;34m,\u001b[0m \u001b[0mtn\u001b[0m\u001b[0;34m,\u001b[0m \u001b[0mv\u001b[0m\u001b[0;34m)\u001b[0m\u001b[0;34m\u001b[0m\u001b[0;34m\u001b[0m\u001b[0m\n\u001b[0m\u001b[1;32m     23\u001b[0m     \u001b[0mk2\u001b[0m \u001b[0;34m=\u001b[0m \u001b[0mfold_hopf\u001b[0m\u001b[0;34m(\u001b[0m\u001b[0mself\u001b[0m\u001b[0;34m,\u001b[0m \u001b[0mtn\u001b[0m \u001b[0;34m+\u001b[0m \u001b[0;34m(\u001b[0m\u001b[0mself\u001b[0m\u001b[0;34m.\u001b[0m\u001b[0mtime_step\u001b[0m \u001b[0;34m/\u001b[0m \u001b[0;36m2\u001b[0m\u001b[0;34m)\u001b[0m\u001b[0;34m,\u001b[0m \u001b[0mv\u001b[0m \u001b[0;34m+\u001b[0m \u001b[0;34m(\u001b[0m\u001b[0;34m(\u001b[0m\u001b[0mself\u001b[0m\u001b[0;34m.\u001b[0m\u001b[0mtime_step\u001b[0m \u001b[0;34m/\u001b[0m \u001b[0;36m2\u001b[0m\u001b[0;34m)\u001b[0m \u001b[0;34m*\u001b[0m \u001b[0mk1\u001b[0m\u001b[0;34m)\u001b[0m\u001b[0;34m)\u001b[0m\u001b[0;34m\u001b[0m\u001b[0;34m\u001b[0m\u001b[0m\n\u001b[1;32m     24\u001b[0m     \u001b[0mk3\u001b[0m \u001b[0;34m=\u001b[0m \u001b[0mfold_hopf\u001b[0m\u001b[0;34m(\u001b[0m\u001b[0mself\u001b[0m\u001b[0;34m,\u001b[0m \u001b[0mtn\u001b[0m \u001b[0;34m+\u001b[0m \u001b[0;34m(\u001b[0m\u001b[0mself\u001b[0m\u001b[0;34m.\u001b[0m\u001b[0mtime_step\u001b[0m \u001b[0;34m/\u001b[0m \u001b[0;36m2\u001b[0m\u001b[0;34m)\u001b[0m\u001b[0;34m,\u001b[0m \u001b[0mv\u001b[0m \u001b[0;34m+\u001b[0m \u001b[0;34m(\u001b[0m\u001b[0;34m(\u001b[0m\u001b[0mself\u001b[0m\u001b[0;34m.\u001b[0m\u001b[0mtime_step\u001b[0m \u001b[0;34m/\u001b[0m \u001b[0;36m2\u001b[0m\u001b[0;34m)\u001b[0m \u001b[0;34m*\u001b[0m \u001b[0mk2\u001b[0m\u001b[0;34m)\u001b[0m\u001b[0;34m)\u001b[0m\u001b[0;34m\u001b[0m\u001b[0;34m\u001b[0m\u001b[0m\n",
      "\u001b[0;31mTypeError\u001b[0m: fold_hopf() missing 1 required positional argument: 'phi'"
     ]
    }
   ],
   "source": [
    "class time_series():\n",
    "  def __init__(self):\n",
    "    # initial conditions\n",
    "    self.initial_conditions = np.array([[x0, y0, z0]])\n",
    "    # forcing parameter\n",
    "    self.phi = -2\n",
    "    # time\n",
    "    self.t_init = t_init\n",
    "    self.t_fin = t_fin\n",
    "    self.time_step = time_step\n",
    "    # data\n",
    "    self.dataset = self.initial_conditions\n",
    "    self.time_range = np.arange(t_init, t_fin + time_step, time_step)\n",
    "    self.legends = [\"$x$ (leading)\", \"$y$ (following)\", \"$z$ (following)\"]\n",
    "\n",
    "  # linear coupling parameter\n",
    "  # proposed by Dekker et al. article\n",
    "  def gamma(self, x):\n",
    "    return (-0.1 + 0.12*x)\n",
    "\n",
    "  def derivatives(self, tn, v):\n",
    "    k1 = fold_hopf(self, tn, v)\n",
    "    k2 = fold_hopf(self, tn + (self.time_step / 2), v + ((self.time_step / 2) * k1))\n",
    "    k3 = fold_hopf(self, tn + (self.time_step / 2), v + ((self.time_step / 2) * k2))\n",
    "    k4 = fold_hopf(self, tn + self.time_step, v + (self.time_step * k3))\n",
    "    return (k1 + 2*k2 + 2*k3 + k4)\n",
    "\n",
    "  def rk4(self):\n",
    "    # [x0, y0, z0]\n",
    "    v = self.initial_conditions[0]\n",
    "\n",
    "    for t in self.time_range:\n",
    "      if t == self.t_fin: break # LOL\n",
    "\n",
    "      # increase forcing parameter\n",
    "      self.phi += 0.01\n",
    "\n",
    "      v += (self.time_step / 6) * self.derivatives(t, v)\n",
    "      self.dataset = np.append(self.dataset, [v.copy()], axis=0)\n",
    "\n",
    "    # results = solve_ivp(\n",
    "    #   fun=fold_hopf,\n",
    "    #   t_span=(self.t_init, self.t_fin),\n",
    "    #   t_eval=self.time_range,\n",
    "    #   y0=self.initial_conditions,\n",
    "    #   first_step=self.time_step,\n",
    "    #   method=\"RK45\",\n",
    "    #   args=(self.phi, self.gamma,)\n",
    "    # )\n",
    "\n",
    "    self.plot()\n",
    "\n",
    "  def plot(self):\n",
    "    fig, ax = plt.subplots()\n",
    "\n",
    "    l1, = ax.plot(self.time_range, self.dataset[:,0])\n",
    "    l2, = ax.plot(self.time_range, self.dataset[:,1])\n",
    "    l3, = ax.plot(self.time_range, self.dataset[:,2])\n",
    "\n",
    "    plt.xlabel(\"t\")\n",
    "    plt.ylabel(\"variables\")\n",
    "    plt.legend(self.legends, loc=\"upper right\")\n",
    "    plt.title(\"Fold-Hopf Bifurcation - Time serie\")\n",
    "    plt.show()\n",
    "\n",
    "time_serie = time_series()\n",
    "time_serie.rk4()"
   ]
  },
  {
   "cell_type": "markdown",
   "id": "valid-johnston",
   "metadata": {},
   "source": [
    "Let's do our bifurcations"
   ]
  },
  {
   "cell_type": "code",
   "execution_count": 15,
   "id": "behavioral-order",
   "metadata": {},
   "outputs": [
    {
     "data": {
      "image/png": "[encoded data removed]",
      "text/plain": [
       "<Figure size 432x288 with 1 Axes>"
      ]
     },
     "metadata": {
      "needs_background": "light"
     },
     "output_type": "display_data"
    },
    {
     "data": {
      "image/png": "[encoded data removed]",
      "text/plain": [
       "<Figure size 432x288 with 1 Axes>"
      ]
     },
     "metadata": {
      "needs_background": "light"
     },
     "output_type": "display_data"
    }
   ],
   "source": [
    "phi = 0\n",
    "nphi = 100\n",
    "phi_mesh = np.linspace(start=-2, stop=2, num=nphi)\n",
    "\n",
    "# number of time steps\n",
    "nt = int((t_fin - t_init) / time_step)\n",
    "time_mesh = np.linspace(start=t_init, stop=t_fin, num=nt)\n",
    "\n",
    "def fold_bifurcation():\n",
    "    equilibria_mesh = np.zeros(nphi)\n",
    "\n",
    "    # for each phi\n",
    "    for phi_index in range(0, nphi-1):\n",
    "      # # create mesh\n",
    "      # x = np.zeros(self.nt)\n",
    "      # # set initial conditions (for each phi value)\n",
    "      # x[0] = x0\n",
    "\n",
    "      # # simulate the system over time\n",
    "      # for t in range(0, self.nt-1):\n",
    "      #   x[t+1] = rk4(fold, time_step, t, x, self.phi_mesh[phi_index])\n",
    "\n",
    "      # find the equilibria of our system\n",
    "      equilibria = fsolve(func=fold, x0=[0.], args=(phi_mesh[phi_index]))\n",
    "\n",
    "      # add to the mesh\n",
    "      equilibria_mesh[phi_index] = equilibria\n",
    "\n",
    "    plot(equilibria_mesh)\n",
    "\n",
    "def hopf_bifurcation():\n",
    "    equilibria_mesh = np.zeros(nphi)\n",
    "\n",
    "    # for each phi\n",
    "    for phi_index in range(0, nphi-1):\n",
    "      # create mesh\n",
    "      # x = np.zeros(self.nt)\n",
    "      # # set initial conditions (for each phi value)\n",
    "      # x[0] = x0\n",
    "\n",
    "      # # simulate the system over time\n",
    "      # for t in range(0, self.nt-1):\n",
    "      #   x[t+1] = rk4(fold, time_step, t, x, self.phi_mesh[phi_index])\n",
    "\n",
    "      # find the equilibria of our system\n",
    "      equilibria = fsolve(func=hopf, x0=[1.], args=(phi_mesh[phi_index]))\n",
    "\n",
    "      # add to the mesh\n",
    "      equilibria_mesh[phi_index] = equilibria\n",
    "\n",
    "    plot(equilibria_mesh)\n",
    "\n",
    "def plot(dataset):\n",
    "    plt.plot(phi_mesh, dataset)\n",
    "    plt.xlabel(\"$\\phi$\")\n",
    "    plt.ylabel(\"x\")\n",
    "    plt.xlim(-2,2)\n",
    "    plt.ylim(-5,5)\n",
    "    plt.show()\n",
    "    \n",
    "fold_bifurcation()\n",
    "hopf_bifurcation()"
   ]
  },
  {
   "cell_type": "code",
   "execution_count": null,
   "id": "logical-accountability",
   "metadata": {},
   "outputs": [],
   "source": []
  }
 ],
 "metadata": {
  "kernelspec": {
   "display_name": "env",
   "language": "python",
   "name": "env"
  },
  "language_info": {
   "codemirror_mode": {
    "name": "ipython",
    "version": 3
   },
   "file_extension": ".py",
   "mimetype": "text/x-python",
   "name": "python",
   "nbconvert_exporter": "python",
   "pygments_lexer": "ipython3",
   "version": "3.9.1"
  }
 },
 "nbformat": 4,
 "nbformat_minor": 5
}
