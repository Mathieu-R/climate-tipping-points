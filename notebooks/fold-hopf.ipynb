{
 "cells": [
  {
   "cell_type": "markdown",
   "id": "answering-staff",
   "metadata": {},
   "source": [
    "Pour la bifurcation fold-hopf, nous avons le système non-linéaire suivant,\n",
    "\n",
    "$$\n",
    "\\begin{cases}\n",
    "    \\dot{x} = a_1 x^3 + a_2x + \\phi \\\\\n",
    "    \\dot{y} = b_1z + b_2 \\left( \\gamma(x) - [y^2 + z^2] \\right)y \\\\\n",
    "    \\dot{z} = c_1y + c_2 \\left( \\gamma(x) - [y^2 + z^2] \\right)z\n",
    "\\end{cases}\n",
    "$$"
   ]
  },
  {
   "cell_type": "markdown",
   "id": "alone-antarctica",
   "metadata": {},
   "source": [
    "Notre système est de la forme \n",
    "$$\n",
    "\\dot{\\vec{x}} = f(\\vec{x}), \\quad \\vec{x} \\in \\mathbb{R}^3\n",
    "$$\n",
    "\n",
    "Nous pouvons utiliser la libraire de calcul symbolique _simpy_ afin de trouver les points d'équilibres ainsi que les valeurs propres de la matrice jacobienne $df$ caractérisant le comportement de notre système aux abords de ces points d'équilibres."
   ]
  },
  {
   "cell_type": "code",
   "execution_count": 1,
   "id": "becoming-difficulty",
   "metadata": {},
   "outputs": [],
   "source": [
    "import numpy as np\n",
    "from sympy import Matrix, symbols, init_printing, solve, lambdify\n",
    "import matplotlib.pyplot as plt\n",
    "\n",
    "init_printing()"
   ]
  },
  {
   "cell_type": "markdown",
   "id": "athletic-bearing",
   "metadata": {},
   "source": [
    "On commence par définir nos différentes variables ainsi que le système d'équations différentielles non-linéaires et le terme de couplage qui dépend de $x$."
   ]
  },
  {
   "cell_type": "code",
   "execution_count": 2,
   "id": "practical-patrol",
   "metadata": {},
   "outputs": [],
   "source": [
    "a1, a2, b1, b2, c1, c2, x, y, z, gamma1, gamma2, phi = symbols(\"a1 a2 b1 b2 c1 c2 x y z phi\")"
   ]
  },
  {
   "cell_type": "code",
   "execution_count": 3,
   "id": "hungry-giving",
   "metadata": {},
   "outputs": [],
   "source": [
    "def gamma(x):\n",
    "    return gamma1 * x + gamma2\n",
    "\n",
    "def f1(x):\n",
    "    return a1 * (x ** 3) + a2 * x + phi\n",
    "\n",
    "def f2(x, y, z):\n",
    "    return b1 * z + b2 * (gamma(x) - (y**2 + z**2)) * y\n",
    "\n",
    "def f3(x, y, z):\n",
    "    return c1 * y + c2 * (gamma(x) - (y**2 + z**2)) * z"
   ]
  },
  {
   "cell_type": "code",
   "execution_count": 4,
   "id": "hydraulic-oklahoma",
   "metadata": {},
   "outputs": [],
   "source": [
    "M = Matrix([f1(x), f2(x, y, z), f3(x, y, z)])"
   ]
  },
  {
   "cell_type": "markdown",
   "id": "starting-unemployment",
   "metadata": {},
   "source": [
    "On commence par calculer les points d'équilibre de notre système."
   ]
  },
  {
   "cell_type": "code",
   "execution_count": null,
   "id": "amino-bridal",
   "metadata": {},
   "outputs": [],
   "source": [
    "fixed_points = solve(M, [x, y, z])[2]\n",
    "fixed_points"
   ]
  },
  {
   "cell_type": "markdown",
   "id": "dying-production",
   "metadata": {},
   "source": [
    "On calcule la matrice jacobienne de notre système au point d'équilibre. Celle-ci constitue une description de système linéarisé au voisinage du point d'équilibre."
   ]
  },
  {
   "cell_type": "code",
   "execution_count": null,
   "id": "configured-bernard",
   "metadata": {},
   "outputs": [],
   "source": [
    "M.jacobian([x, y, z])"
   ]
  },
  {
   "cell_type": "code",
   "execution_count": null,
   "id": "demanding-blackjack",
   "metadata": {},
   "outputs": [],
   "source": [
    "Jac = M.jacobian([x,y,z]).subs({x: fixed_points[0], y: fixed_points[1], z: fixed_points[2]})\n",
    "Jac"
   ]
  },
  {
   "cell_type": "markdown",
   "id": "secure-policy",
   "metadata": {},
   "source": [
    "On peut calculer son polynôme caractéristique et trouver ses valeurs propres. Celles-ci nous renseigne sur la nature du point d'équilibre. "
   ]
  },
  {
   "cell_type": "code",
   "execution_count": null,
   "id": "dedicated-matthew",
   "metadata": {},
   "outputs": [],
   "source": [
    "Jac.charpoly()"
   ]
  },
  {
   "cell_type": "code",
   "execution_count": null,
   "id": "special-variance",
   "metadata": {},
   "outputs": [],
   "source": [
    "Jac.eigenvals()"
   ]
  },
  {
   "cell_type": "code",
   "execution_count": null,
   "id": "stopped-demand",
   "metadata": {},
   "outputs": [],
   "source": [
    "result = lambdify([a1, a2, b1, b2, c1, c2], J)"
   ]
  },
  {
   "cell_type": "code",
   "execution_count": null,
   "id": "intensive-going",
   "metadata": {},
   "outputs": [],
   "source": []
  }
 ],
 "metadata": {
  "kernelspec": {
   "display_name": "env",
   "language": "python",
   "name": "env"
  },
  "language_info": {
   "codemirror_mode": {
    "name": "ipython",
    "version": 3
   },
   "file_extension": ".py",
   "mimetype": "text/x-python",
   "name": "python",
   "nbconvert_exporter": "python",
   "pygments_lexer": "ipython3",
   "version": "3.9.2"
  }
 },
 "nbformat": 4,
 "nbformat_minor": 5
}
