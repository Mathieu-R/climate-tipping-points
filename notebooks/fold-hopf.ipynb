{
 "cells": [
  {
   "cell_type": "markdown",
   "id": "centered-spouse",
   "metadata": {},
   "source": [
    "Pour la bifurcation fold-hopf, nous avons le système non-linéaire suivant,\n",
    "\n",
    "$$\n",
    "\\begin{cases}\n",
    "    \\dot{x} = a_1 x^3 + a_2x + \\phi \\\\\n",
    "    \\dot{y} = b_1z + b_2 \\left( \\gamma(x) - [y^2 + z^2] \\right)y \\\\\n",
    "    \\dot{z} = c_1y + c_2 \\left( \\gamma(x) - [y^2 + z^2] \\right)z\n",
    "\\end{cases}\n",
    "$$"
   ]
  },
  {
   "cell_type": "code",
   "execution_count": null,
   "id": "lined-evidence",
   "metadata": {},
   "outputs": [],
   "source": []
  },
  {
   "cell_type": "code",
   "execution_count": 7,
   "id": "adolescent-carolina",
   "metadata": {},
   "outputs": [],
   "source": [
    "import numpy as np\n",
    "from sympy import Matrix, symbols, init_printing, solve, lambdify\n",
    "import matplotlib.pyplot as plt\n",
    "\n",
    "init_printing()"
   ]
  },
  {
   "cell_type": "code",
   "execution_count": 12,
   "id": "suspected-letter",
   "metadata": {},
   "outputs": [],
   "source": [
    "a1, a2, b1, b2, c1, c2, x, y, z, phi = symbols(\"a1 a2 b1 b2 c1 c2 x y z phi\")"
   ]
  },
  {
   "cell_type": "code",
   "execution_count": 9,
   "id": "settled-custody",
   "metadata": {},
   "outputs": [],
   "source": [
    "def gamma(x):\n",
    "    return 0.12 * x + 0.21\n",
    "\n",
    "def f1(x):\n",
    "    return a1 * (x ** 3) + a2 * x + phi\n",
    "\n",
    "def f2(x, y, z):\n",
    "    return b1 * z + b2 * (gamma(x) - (y**2 + z**2)) * y\n",
    "\n",
    "def f3(x, y, z):\n",
    "    return c1 * y + c2 * (gamma(x) - (y**2 + z**2)) * z"
   ]
  },
  {
   "cell_type": "code",
   "execution_count": 13,
   "id": "limiting-biology",
   "metadata": {},
   "outputs": [],
   "source": [
    "M = Matrix([f1(x), f2(x, y, z), f3(x, y, z)])"
   ]
  },
  {
   "cell_type": "code",
   "execution_count": null,
   "id": "played-headline",
   "metadata": {},
   "outputs": [],
   "source": [
    "fixed_points = solve(M, [x, y, z])[2]\n",
    "fixed_points"
   ]
  },
  {
   "cell_type": "code",
   "execution_count": null,
   "id": "hispanic-characterization",
   "metadata": {},
   "outputs": [],
   "source": [
    "M.jacobian([x, y, z])"
   ]
  },
  {
   "cell_type": "code",
   "execution_count": null,
   "id": "controlling-alabama",
   "metadata": {},
   "outputs": [],
   "source": [
    "Jac = M.jacobian([x,y,z]).subs({x: fixed_points[0], y: fixed_points[1], z: fixed_points[2]})\n",
    "Jac"
   ]
  },
  {
   "cell_type": "code",
   "execution_count": null,
   "id": "administrative-palestinian",
   "metadata": {},
   "outputs": [],
   "source": [
    "Jac.charpoly()"
   ]
  },
  {
   "cell_type": "code",
   "execution_count": null,
   "id": "mechanical-quantum",
   "metadata": {},
   "outputs": [],
   "source": [
    "Jac.eigenvals()"
   ]
  },
  {
   "cell_type": "code",
   "execution_count": null,
   "id": "invisible-branch",
   "metadata": {},
   "outputs": [],
   "source": [
    "result = lambdify([a1, a2, b1, b2, c1, c2], J)"
   ]
  },
  {
   "cell_type": "code",
   "execution_count": null,
   "id": "trying-provincial",
   "metadata": {},
   "outputs": [],
   "source": []
  }
 ],
 "metadata": {
  "kernelspec": {
   "display_name": "env",
   "language": "python",
   "name": "env"
  },
  "language_info": {
   "codemirror_mode": {
    "name": "ipython",
    "version": 3
   },
   "file_extension": ".py",
   "mimetype": "text/x-python",
   "name": "python",
   "nbconvert_exporter": "python",
   "pygments_lexer": "ipython3",
   "version": "3.9.1"
  }
 },
 "nbformat": 4,
 "nbformat_minor": 5
}
